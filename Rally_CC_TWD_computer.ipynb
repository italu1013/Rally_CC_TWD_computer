{
 "cells": [
  {
   "cell_type": "code",
   "execution_count": 1,
   "metadata": {},
   "outputs": [],
   "source": [
    "import matplotlib.pyplot as plt\n",
    "import numpy as np\n",
    "from sklearn.metrics import auc\n",
    "import ipywidgets\n",
    "from ipywidgets import interact, interactive, fixed, interact_manual\n",
    "from ipywidgets import FloatSlider"
   ]
  },
  {
   "cell_type": "code",
   "execution_count": 2,
   "metadata": {},
   "outputs": [
    {
     "name": "stdout",
     "output_type": "stream",
     "text": [
      "165.58955\n"
     ]
    },
    {
     "data": {
      "image/png": "[encoded data removed]",
      "text/plain": [
       "<Figure size 432x288 with 1 Axes>"
      ]
     },
     "metadata": {
      "needs_background": "light"
     },
     "output_type": "display_data"
    }
   ],
   "source": [
    "M = 1000000\n",
    "supply = [0, 5030000, 5100000, 6000000, 21000000]\n",
    "price = [0, 0.03, 0.13, 1, 21]\n",
    "plt.plot(supply, price)\n",
    "plt.xlabel(\"Number of CC supply\")\n",
    "plt.ylabel(\"Price: $RLY\")\n",
    "total_RLY = auc(supply, price)/M \n",
    "print(total_RLY)"
   ]
  },
  {
   "cell_type": "code",
   "execution_count": 3,
   "metadata": {},
   "outputs": [],
   "source": [
    "def price_compute(million_sold):\n",
    "    M = 1000000\n",
    "    RLY_to_TWD_price = 4.36 ## 會改變\n",
    "    max_cc = 21*M\n",
    "\n",
    "    product_value_TWD = million_sold*M ### <-------------------------------------- 投入成本\n",
    "    product_value_RLY = int(product_value_TWD/RLY_to_TWD_price)\n",
    "    N_cc = int(np.sqrt(2*(16/21)*product_value_RLY*M))\n",
    "    price_RLY = N_cc/M *(21/16)\n",
    "    cc_to_RLY_to_TWD = int(N_cc*price_RLY*RLY_to_TWD_price)\n",
    "    N_cc_include_genesis = N_cc + 5000000\n",
    "    cc_to_RLY_to_TWD_include_genesis = int(N_cc_include_genesis*price_RLY*RLY_to_TWD_price)\n",
    "    \n",
    "    msg = \"\\n\"\n",
    "    msg += \"\\033[1m售出商品價值: {:,} TWD \\033[0m 對應到 {:,} $RLY\\n\".format(product_value_TWD, product_value_RLY)\n",
    "    msg += \"對應到\\033[1m{:,} CC\\033[0m, 共剩餘\\033[1m{:,} CC\\033[0m(CC總數為2100萬)\\n\".format(N_cc, max_cc-N_cc)\n",
    "    msg += \"其幣價為 \\033[1m{:,} $RLY/CC\\033[0m  \\n\".format(price_RLY)\n",
    "    msg += \"-----------------------------------------------------------\\n\"\n",
    "    msg += \"出售{:,} CC結果可換到 {:,}個 $RLY\\033[1m\\n其等價現金為 {:,} TWD\".format(N_cc, N_cc*price_RLY, cc_to_RLY_to_TWD)\n",
    "    msg += \"; 回報率為 %s \\n \\033[0m\" % (cc_to_RLY_to_TWD/product_value_TWD) \n",
    "    print(msg)"
   ]
  },
  {
   "cell_type": "code",
   "execution_count": 4,
   "metadata": {},
   "outputs": [
    {
     "name": "stdout",
     "output_type": "stream",
     "text": [
      "  移動或輸入以下數值取得對應數據：\n"
     ]
    },
    {
     "data": {
      "application/vnd.jupyter.widget-view+json": {
       "model_id": "32f6eb4037084e7b95cc08a35e2810d1",
       "version_major": 2,
       "version_minor": 0
      },
      "text/plain": [
       "interactive(children=(FloatSlider(value=10.0, description='million_sold', max=200.0, min=1.0, step=0.05), Outp…"
      ]
     },
     "metadata": {},
     "output_type": "display_data"
    }
   ],
   "source": [
    "print(\"  移動或輸入以下數值取得對應數據：\")\n",
    "interact(price_compute, million_sold=FloatSlider(min=1, max=200, step=0.05, value=10.0));"
   ]
  }
 ],
 "metadata": {
  "kernelspec": {
   "display_name": "Python 3",
   "language": "python",
   "name": "python3"
  },
  "language_info": {
   "codemirror_mode": {
    "name": "ipython",
    "version": 3
   },
   "file_extension": ".py",
   "mimetype": "text/x-python",
   "name": "python",
   "nbconvert_exporter": "python",
   "pygments_lexer": "ipython3",
   "version": "3.8.5"
  }
 },
 "nbformat": 4,
 "nbformat_minor": 4
}
